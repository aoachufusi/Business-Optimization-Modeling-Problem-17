{
  "nbformat": 4,
  "nbformat_minor": 0,
  "metadata": {
    "colab": {
      "provenance": []
    },
    "kernelspec": {
      "name": "python3",
      "display_name": "Python 3"
    },
    "language_info": {
      "name": "python"
    }
  },
  "cells": [
    {
      "cell_type": "code",
      "execution_count": 1,
      "metadata": {
        "id": "3i7j58RTzW7K"
      },
      "outputs": [],
      "source": [
        "from scipy . optimize import linprog\n",
        "from numpy import inf, dot"
      ]
    },
    {
      "cell_type": "code",
      "source": [
        "# Part A Code!!!\n",
        "\n",
        "# objective coefficient vector\n",
        "c = [150000, 180000, 130000]\n",
        "\n",
        "# inequality constraints in the form A_ub x <= b_ub ('<=' means 'less than or equal to' here)\n",
        "A_ub = [[-8000000, -2000000, -4000000],\n",
        "        [-4000000, -12000000, -5000000]]  # It's called A_ub because we are assuming these are all upper bound constraints\n",
        "\n",
        "b_ub = [-35000000, -35000000]\n",
        "\n",
        "# bounds on variables\n",
        "bounds = [[0, inf], [0, inf], [0, inf]]\n",
        "\n",
        "print(linprog(c, A_ub=A_ub, b_ub=b_ub, bounds=bounds))"
      ],
      "metadata": {
        "colab": {
          "base_uri": "https://localhost:8080/"
        },
        "id": "viDrqObB2y5f",
        "outputId": "f0b4a9fa-50b4-4f46-914b-271edabcd2f0"
      },
      "execution_count": 8,
      "outputs": [
        {
          "output_type": "stream",
          "name": "stdout",
          "text": [
            "        message: Optimization terminated successfully. (HiGHS Status 7: Optimal)\n",
            "        success: True\n",
            "         status: 0\n",
            "            fun: 882954.5454545455\n",
            "              x: [ 3.977e+00  1.591e+00  0.000e+00]\n",
            "            nit: 2\n",
            "          lower:  residual: [ 3.977e+00  1.591e+00  0.000e+00]\n",
            "                 marginals: [ 0.000e+00  0.000e+00  1.614e+04]\n",
            "          upper:  residual: [       inf        inf        inf]\n",
            "                 marginals: [ 0.000e+00  0.000e+00  0.000e+00]\n",
            "          eqlin:  residual: []\n",
            "                 marginals: []\n",
            "        ineqlin:  residual: [ 0.000e+00  0.000e+00]\n",
            "                 marginals: [-1.227e-02 -1.295e-02]\n",
            " mip_node_count: 0\n",
            " mip_dual_bound: 0.0\n",
            "        mip_gap: 0.0\n"
          ]
        }
      ]
    },
    {
      "cell_type": "code",
      "source": [
        "# Part B Code!!!\n",
        "\n",
        "# objective coefficient vector\n",
        "c = [150000, 180000, 130000]\n",
        "\n",
        "# inequality constraints in the form A_ub x <= b_ub ('<=' means 'less than or equal to' here)\n",
        "A_ub = [[-8000000, -2000000, -4000000],\n",
        "        [-4000000, -12000000, -5000000]]  # It's called A_ub because we are assuming these are all upper bound constraints\n",
        "\n",
        "b_ub = [-35000000, -35000000]\n",
        "\n",
        "# bounds on variables\n",
        "bounds = [[0, inf], [0, inf], [0, inf]]\n",
        "\n",
        "print(linprog(c, A_ub=A_ub, b_ub=b_ub, bounds=bounds, integrality=[3]*3))"
      ],
      "metadata": {
        "colab": {
          "base_uri": "https://localhost:8080/"
        },
        "id": "RQ_83wDO21pD",
        "outputId": "ed3a9d95-5101-4462-e8b1-a04f1dbcc8cd"
      },
      "execution_count": 9,
      "outputs": [
        {
          "output_type": "stream",
          "name": "stdout",
          "text": [
            "        message: Optimization terminated successfully. (HiGHS Status 7: Optimal)\n",
            "        success: True\n",
            "         status: 0\n",
            "            fun: 960000.0\n",
            "              x: [ 4.000e+00  2.000e+00  0.000e+00]\n",
            "            nit: 5\n",
            "          lower:  residual: [ 4.000e+00  2.000e+00  0.000e+00]\n",
            "                 marginals: [ 0.000e+00  0.000e+00  0.000e+00]\n",
            "          upper:  residual: [       inf        inf        inf]\n",
            "                 marginals: [ 0.000e+00  0.000e+00  0.000e+00]\n",
            "          eqlin:  residual: []\n",
            "                 marginals: []\n",
            "        ineqlin:  residual: [ 1.000e+06  5.000e+06]\n",
            "                 marginals: [ 0.000e+00  0.000e+00]\n",
            " mip_node_count: 1\n",
            " mip_dual_bound: 960000.0\n",
            "        mip_gap: 0.0\n"
          ]
        }
      ]
    },
    {
      "cell_type": "code",
      "source": [],
      "metadata": {
        "id": "U8YZ_PF924e6"
      },
      "execution_count": null,
      "outputs": []
    }
  ]
}